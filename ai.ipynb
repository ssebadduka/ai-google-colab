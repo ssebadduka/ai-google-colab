{
  "nbformat": 4,
  "nbformat_minor": 0,
  "metadata": {
    "colab": {
      "provenance": [],
      "authorship_tag": "ABX9TyPPSnOTYII+OlOp3f0XxtZU",
      "include_colab_link": true
    },
    "kernelspec": {
      "name": "python3",
      "display_name": "Python 3"
    },
    "language_info": {
      "name": "python"
    }
  },
  "cells": [
    {
      "cell_type": "markdown",
      "metadata": {
        "id": "view-in-github",
        "colab_type": "text"
      },
      "source": [
        "<a href=\"https://colab.research.google.com/github/ssebadduka/ai-google-colab/blob/main/ai.ipynb\" target=\"_parent\"><img src=\"https://colab.research.google.com/assets/colab-badge.svg\" alt=\"Open In Colab\"/></a>"
      ]
    },
    {
      "cell_type": "code",
      "execution_count": 6,
      "metadata": {
        "colab": {
          "base_uri": "https://localhost:8080/"
        },
        "id": "M11EJMa0U3Uj",
        "outputId": "dc3d78ce-39fd-4dd7-f95c-2891a0110517"
      },
      "outputs": [
        {
          "output_type": "stream",
          "name": "stderr",
          "text": [
            "[nltk_data] Downloading package punkt to /root/nltk_data...\n",
            "[nltk_data]   Package punkt is already up-to-date!\n"
          ]
        },
        {
          "output_type": "execute_result",
          "data": {
            "text/plain": [
              "['Hello', 'everyone', '.', 'Welcome', 'to', 'GeeksforGeeks', '.']"
            ]
          },
          "metadata": {},
          "execution_count": 6
        }
      ],
      "source": [
        "import nltk\n",
        "nltk.download('punkt')\n",
        "from nltk.tokenize import word_tokenize\n",
        "\n",
        "text = \"Hello everyone. Welcome to GeeksforGeeks.\"\n",
        "word_tokenize(text)\n"
      ]
    },
    {
      "cell_type": "code",
      "source": [
        "from nltk.tokenize import WordPunctTokenizer\n",
        "\n",
        "tokenizer = WordPunctTokenizer()\n",
        "tokenizer.tokenize(\"Let's see how it's working.\")\n"
      ],
      "metadata": {
        "colab": {
          "base_uri": "https://localhost:8080/"
        },
        "id": "hGfGGDISWpcX",
        "outputId": "a60c9b59-a701-4dbd-f879-ef08115007de"
      },
      "execution_count": 7,
      "outputs": [
        {
          "output_type": "execute_result",
          "data": {
            "text/plain": [
              "['Let', \"'\", 's', 'see', 'how', 'it', \"'\", 's', 'working', '.']"
            ]
          },
          "metadata": {},
          "execution_count": 7
        }
      ]
    },
    {
      "cell_type": "code",
      "source": [
        "pip install googletrans==4.0.0-rc1\n"
      ],
      "metadata": {
        "colab": {
          "base_uri": "https://localhost:8080/"
        },
        "id": "6ySp2wvhdUoL",
        "outputId": "98e336a6-6cf9-4ba9-cfca-7d2cb330cbb9"
      },
      "execution_count": 9,
      "outputs": [
        {
          "output_type": "stream",
          "name": "stdout",
          "text": [
            "Collecting googletrans==4.0.0-rc1\n",
            "  Downloading googletrans-4.0.0rc1.tar.gz (20 kB)\n",
            "  Preparing metadata (setup.py) ... \u001b[?25l\u001b[?25hdone\n",
            "Collecting httpx==0.13.3 (from googletrans==4.0.0-rc1)\n",
            "  Downloading httpx-0.13.3-py3-none-any.whl.metadata (25 kB)\n",
            "Requirement already satisfied: certifi in /usr/local/lib/python3.10/dist-packages (from httpx==0.13.3->googletrans==4.0.0-rc1) (2024.7.4)\n",
            "Collecting hstspreload (from httpx==0.13.3->googletrans==4.0.0-rc1)\n",
            "  Downloading hstspreload-2024.8.1-py3-none-any.whl.metadata (2.1 kB)\n",
            "Requirement already satisfied: sniffio in /usr/local/lib/python3.10/dist-packages (from httpx==0.13.3->googletrans==4.0.0-rc1) (1.3.1)\n",
            "Collecting chardet==3.* (from httpx==0.13.3->googletrans==4.0.0-rc1)\n",
            "  Downloading chardet-3.0.4-py2.py3-none-any.whl.metadata (3.2 kB)\n",
            "Collecting idna==2.* (from httpx==0.13.3->googletrans==4.0.0-rc1)\n",
            "  Downloading idna-2.10-py2.py3-none-any.whl.metadata (9.1 kB)\n",
            "Collecting rfc3986<2,>=1.3 (from httpx==0.13.3->googletrans==4.0.0-rc1)\n",
            "  Downloading rfc3986-1.5.0-py2.py3-none-any.whl.metadata (6.5 kB)\n",
            "Collecting httpcore==0.9.* (from httpx==0.13.3->googletrans==4.0.0-rc1)\n",
            "  Downloading httpcore-0.9.1-py3-none-any.whl.metadata (4.6 kB)\n",
            "Collecting h11<0.10,>=0.8 (from httpcore==0.9.*->httpx==0.13.3->googletrans==4.0.0-rc1)\n",
            "  Downloading h11-0.9.0-py2.py3-none-any.whl.metadata (8.1 kB)\n",
            "Collecting h2==3.* (from httpcore==0.9.*->httpx==0.13.3->googletrans==4.0.0-rc1)\n",
            "  Downloading h2-3.2.0-py2.py3-none-any.whl.metadata (32 kB)\n",
            "Collecting hyperframe<6,>=5.2.0 (from h2==3.*->httpcore==0.9.*->httpx==0.13.3->googletrans==4.0.0-rc1)\n",
            "  Downloading hyperframe-5.2.0-py2.py3-none-any.whl.metadata (7.2 kB)\n",
            "Collecting hpack<4,>=3.0 (from h2==3.*->httpcore==0.9.*->httpx==0.13.3->googletrans==4.0.0-rc1)\n",
            "  Downloading hpack-3.0.0-py2.py3-none-any.whl.metadata (7.0 kB)\n",
            "Downloading httpx-0.13.3-py3-none-any.whl (55 kB)\n",
            "\u001b[2K   \u001b[90m━━━━━━━━━━━━━━━━━━━━━━━━━━━━━━━━━━━━━━━━\u001b[0m \u001b[32m55.1/55.1 kB\u001b[0m \u001b[31m3.6 MB/s\u001b[0m eta \u001b[36m0:00:00\u001b[0m\n",
            "\u001b[?25hDownloading chardet-3.0.4-py2.py3-none-any.whl (133 kB)\n",
            "\u001b[2K   \u001b[90m━━━━━━━━━━━━━━━━━━━━━━━━━━━━━━━━━━━━━━━━\u001b[0m \u001b[32m133.4/133.4 kB\u001b[0m \u001b[31m6.4 MB/s\u001b[0m eta \u001b[36m0:00:00\u001b[0m\n",
            "\u001b[?25hDownloading httpcore-0.9.1-py3-none-any.whl (42 kB)\n",
            "\u001b[2K   \u001b[90m━━━━━━━━━━━━━━━━━━━━━━━━━━━━━━━━━━━━━━━━\u001b[0m \u001b[32m42.6/42.6 kB\u001b[0m \u001b[31m2.5 MB/s\u001b[0m eta \u001b[36m0:00:00\u001b[0m\n",
            "\u001b[?25hDownloading idna-2.10-py2.py3-none-any.whl (58 kB)\n",
            "\u001b[2K   \u001b[90m━━━━━━━━━━━━━━━━━━━━━━━━━━━━━━━━━━━━━━━━\u001b[0m \u001b[32m58.8/58.8 kB\u001b[0m \u001b[31m3.8 MB/s\u001b[0m eta \u001b[36m0:00:00\u001b[0m\n",
            "\u001b[?25hDownloading h2-3.2.0-py2.py3-none-any.whl (65 kB)\n",
            "\u001b[2K   \u001b[90m━━━━━━━━━━━━━━━━━━━━━━━━━━━━━━━━━━━━━━━━\u001b[0m \u001b[32m65.0/65.0 kB\u001b[0m \u001b[31m4.2 MB/s\u001b[0m eta \u001b[36m0:00:00\u001b[0m\n",
            "\u001b[?25hDownloading rfc3986-1.5.0-py2.py3-none-any.whl (31 kB)\n",
            "Downloading hstspreload-2024.8.1-py3-none-any.whl (1.2 MB)\n",
            "\u001b[2K   \u001b[90m━━━━━━━━━━━━━━━━━━━━━━━━━━━━━━━━━━━━━━━━\u001b[0m \u001b[32m1.2/1.2 MB\u001b[0m \u001b[31m31.0 MB/s\u001b[0m eta \u001b[36m0:00:00\u001b[0m\n",
            "\u001b[?25hDownloading h11-0.9.0-py2.py3-none-any.whl (53 kB)\n",
            "\u001b[2K   \u001b[90m━━━━━━━━━━━━━━━━━━━━━━━━━━━━━━━━━━━━━━━━\u001b[0m \u001b[32m53.6/53.6 kB\u001b[0m \u001b[31m2.9 MB/s\u001b[0m eta \u001b[36m0:00:00\u001b[0m\n",
            "\u001b[?25hDownloading hpack-3.0.0-py2.py3-none-any.whl (38 kB)\n",
            "Downloading hyperframe-5.2.0-py2.py3-none-any.whl (12 kB)\n",
            "Building wheels for collected packages: googletrans\n",
            "  Building wheel for googletrans (setup.py) ... \u001b[?25l\u001b[?25hdone\n",
            "  Created wheel for googletrans: filename=googletrans-4.0.0rc1-py3-none-any.whl size=17397 sha256=a75396e001668ac3f0801aa447a13a72b129be5196dc424383493c68643623a5\n",
            "  Stored in directory: /root/.cache/pip/wheels/c0/59/9f/7372f0cf70160fe61b528532e1a7c8498c4becd6bcffb022de\n",
            "Successfully built googletrans\n",
            "Installing collected packages: rfc3986, hyperframe, hpack, h11, chardet, idna, hstspreload, h2, httpcore, httpx, googletrans\n",
            "  Attempting uninstall: chardet\n",
            "    Found existing installation: chardet 5.2.0\n",
            "    Uninstalling chardet-5.2.0:\n",
            "      Successfully uninstalled chardet-5.2.0\n",
            "  Attempting uninstall: idna\n",
            "    Found existing installation: idna 3.7\n",
            "    Uninstalling idna-3.7:\n",
            "      Successfully uninstalled idna-3.7\n",
            "Successfully installed chardet-3.0.4 googletrans-4.0.0rc1 h11-0.9.0 h2-3.2.0 hpack-3.0.0 hstspreload-2024.8.1 httpcore-0.9.1 httpx-0.13.3 hyperframe-5.2.0 idna-2.10 rfc3986-1.5.0\n"
          ]
        }
      ]
    },
    {
      "cell_type": "code",
      "source": [
        "from googletrans import Translator\n",
        "\n",
        "translator = Translator()\n",
        "\n",
        "text = \"Hello, how are you?\"\n",
        "translated = translator.translate(text, src='en', dest='ar')\n",
        "\n",
        "print(f\"Original: {text}\")\n",
        "print(f\"Translated: {translated.text}\")\n"
      ],
      "metadata": {
        "colab": {
          "base_uri": "https://localhost:8080/"
        },
        "id": "t7wxtDsOdfWz",
        "outputId": "197ed83c-d44f-4f46-ca3a-c283ea2ef7de"
      },
      "execution_count": 11,
      "outputs": [
        {
          "output_type": "stream",
          "name": "stdout",
          "text": [
            "Original: Hello, how are you?\n",
            "Translated: مرحبا، كيف حالك؟\n"
          ]
        }
      ]
    },
    {
      "cell_type": "code",
      "source": [
        "def linear_search(arr, target):\n",
        "    for index, value in enumerate(arr):\n",
        "        if value == target:\n",
        "            return index\n",
        "    return -1  # Target not found\n",
        "\n",
        "# Example usage\n",
        "arr = [1, 3, 5, 7, 9]\n",
        "target = 7\n",
        "result = linear_search(arr, target)\n",
        "print(f\"Index of {target}: {result}\")\n"
      ],
      "metadata": {
        "colab": {
          "base_uri": "https://localhost:8080/"
        },
        "id": "2XbzlpC_Hf3c",
        "outputId": "bf820234-2f82-48a3-a5f3-b12742b8817d"
      },
      "execution_count": 1,
      "outputs": [
        {
          "output_type": "stream",
          "name": "stdout",
          "text": [
            "Index of 7: 3\n"
          ]
        }
      ]
    },
    {
      "cell_type": "code",
      "source": [
        "import random\n",
        "\n",
        "def print_board(board):\n",
        "    for row in board:\n",
        "        print(\" \".join(row))\n",
        "    print()\n",
        "\n",
        "def check_winner(board, player):\n",
        "    # Check rows, columns, and diagonals\n",
        "    for row in board:\n",
        "        if all(s == player for s in row):\n",
        "            return True\n",
        "    for col in range(3):\n",
        "        if all(row[col] == player for row in board):\n",
        "            return True\n",
        "    if all(board[i][i] == player for i in range(3)) or all(board[i][2-i] == player for i in range(3)):\n",
        "        return True\n",
        "    return False\n",
        "\n",
        "def get_available_moves(board):\n",
        "    return [(i, j) for i in range(3) for j in range(3) if board[i][j] == ' ']\n",
        "\n",
        "def minimax(board, depth, is_maximizing):\n",
        "    if check_winner(board, 'O'):\n",
        "        return 1\n",
        "    if check_winner(board, 'X'):\n",
        "        return -1\n",
        "    if not get_available_moves(board):\n",
        "        return 0\n",
        "\n",
        "    if is_maximizing:\n",
        "        best_score = -float('inf')\n",
        "        for move in get_available_moves(board):\n",
        "            board[move[0]][move[1]] = 'O'\n",
        "            score = minimax(board, depth + 1, False)\n",
        "            board[move[0]][move[1]] = ' '\n",
        "            best_score = max(score, best_score)\n",
        "        return best_score\n",
        "    else:\n",
        "        best_score = float('inf')\n",
        "        for move in get_available_moves(board):\n",
        "            board[move[0]][move[1]] = 'X'\n",
        "            score = minimax(board, depth + 1, True)\n",
        "            board[move[0]][move[1]] = ' '\n",
        "            best_score = min(score, best_score)\n",
        "        return best_score\n",
        "\n",
        "def best_move(board):\n",
        "    best_score = -float('inf')\n",
        "    move = None\n",
        "    for m in get_available_moves(board):\n",
        "        board[m[0]][m[1]] = 'O'\n",
        "        score = minimax(board, 0, False)\n",
        "        board[m[0]][m[1]] = ' '\n",
        "        if score > best_score:\n",
        "            best_score = score\n",
        "            move = m\n",
        "    return move\n",
        "\n",
        "def play_game():\n",
        "    board = [[' ' for _ in range(3)] for _ in range(3)]\n",
        "    current_player = 'X'\n",
        "    while True:\n",
        "        print_board(board)\n",
        "        if current_player == 'X':\n",
        "            row = int(input(\"Enter the row (0, 1, or 2): \"))\n",
        "            col = int(input(\"Enter the column (0, 1, or 2): \"))\n",
        "        else:\n",
        "            row, col = best_move(board)\n",
        "        if board[row][col] == ' ':\n",
        "            board[row][col] = current_player\n",
        "            if check_winner(board, current_player):\n",
        "                print_board(board)\n",
        "                print(f\"Player {current_player} wins!\")\n",
        "                break\n",
        "            elif not get_available_moves(board):\n",
        "                print_board(board)\n",
        "                print(\"It's a tie!\")\n",
        "                break\n",
        "            current_player = 'O' if current_player == 'X' else 'X'\n",
        "        else:\n",
        "            print(\"Invalid move! Try again.\")\n",
        "\n",
        "play_game()\n"
      ],
      "metadata": {
        "colab": {
          "base_uri": "https://localhost:8080/"
        },
        "id": "rcpNFvFqow0A",
        "outputId": "b625da61-b582-4a30-83c5-a05ace784ba5"
      },
      "execution_count": null,
      "outputs": [
        {
          "metadata": {
            "tags": null
          },
          "name": "stdout",
          "output_type": "stream",
          "text": [
            "     \n",
            "     \n",
            "     \n",
            "\n",
            "  X  \n",
            "     \n",
            "     \n",
            "\n",
            "O X  \n",
            "     \n",
            "     \n",
            "\n",
            "O X  \n",
            "     \n",
            "  X  \n",
            "\n",
            "O X  \n",
            "  O  \n",
            "  X  \n",
            "\n"
          ]
        }
      ]
    },
    {
      "cell_type": "code",
      "source": [
        "import random\n",
        "\n",
        "def get_user_choice():\n",
        "    choice = input(\"Enter your choice (rock, paper, or scissors): \").lower()\n",
        "    while choice not in ['rock', 'paper', 'scissors']:\n",
        "        choice = input(\"Invalid choice! Enter again (rock, paper, or scissors): \").lower()\n",
        "    return choice\n",
        "\n",
        "def get_ai_choice():\n",
        "    return random.choice(['rock', 'paper', 'scissors'])\n",
        "\n",
        "def determine_winner(user_choice, ai_choice):\n",
        "    if user_choice == ai_choice:\n",
        "        return \"It's a tie!\"\n",
        "    elif (user_choice == 'rock' and ai_choice == 'scissors') or \\\n",
        "         (user_choice == 'scissors' and ai_choice == 'paper') or \\\n",
        "         (user_choice == 'paper' and ai_choice == 'rock'):\n",
        "        return \"You win!\"\n",
        "    else:\n",
        "        return \"AI wins!\"\n",
        "\n",
        "def play_game():\n",
        "    user_choice = get_user_choice()\n",
        "    ai_choice = get_ai_choice()\n",
        "    print(f\"AI chose: {ai_choice}\")\n",
        "    print(determine_winner(user_choice, ai_choice))\n",
        "\n",
        "play_game()\n"
      ],
      "metadata": {
        "id": "tbDScdFpqBLg"
      },
      "execution_count": null,
      "outputs": []
    }
  ]
}